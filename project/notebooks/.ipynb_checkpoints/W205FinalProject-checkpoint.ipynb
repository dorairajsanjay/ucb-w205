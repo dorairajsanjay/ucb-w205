{
 "cells": [
  {
   "cell_type": "markdown",
   "metadata": {},
   "source": [
    "### In which counties is the mix of party registrations most different from state-wide averages?"
   ]
  },
  {
   "cell_type": "code",
   "execution_count": null,
   "metadata": {
    "collapsed": true
   },
   "outputs": [],
   "source": [
    "%%sql\n",
    "Select t.countycode, t.partycode, (count(t.registrantid)/s.count_value_sum)/w.percentage as county_v_natl_pct\n",
    "FROM voter_grand t\n",
    "JOIN (SELECT countycode, count(registrantid) AS count_value_sum \n",
    "FROM voter_grand\n",
    "GROUP BY countycode) s\n",
    "ON s.countycode = t.countycode \n",
    "JOIN (SELECT u.partycode, count(u.registrantid)/v.count_value_sum as percentage\n",
    "FROM voter_grand u\n",
    "JOIN\n",
    "(SELECT count(registrantid) AS count_value_sum \n",
    "FROM voter_grand) v\n",
    "WHERE u.partycode IN (\"DEM\", \"GRN\", \"LIB\", \"REP\")\n",
    "GROUP BY u.partycode, v.count_value_sum) w\n",
    "ON w.partycode = t.partycode\n",
    "WHERE t.partycode IN (\"DEM\", \"REP\", \"GRN\", \"LIB\")\n",
    "GROUP BY t.countycode, t.partycode, s.count_value_sum, w.percentage\n",
    "ORDER BY county_v_natl_pct DESC"
   ]
  },
  {
   "cell_type": "markdown",
   "metadata": {},
   "source": [
    "The most Republican counties are: Modoc, Lassen, and Shasta.  The most Liberterian: Placer, Calaveras, and Sierra.  Most Green: Mendocino, Humboldt, and Trinity.  Most Democratic: San Francisco, Alameda, and Santa Cruz."
   ]
  },
  {
   "cell_type": "markdown",
   "metadata": {},
   "source": [
    "### In which counties was turnout (number who voted as a % of those registered) highest and lowest?"
   ]
  },
  {
   "cell_type": "code",
   "execution_count": null,
   "metadata": {
    "collapsed": true
   },
   "outputs": [],
   "source": [
    "%%sql\n",
    "SELECT a.countycode, count(a.registrantid) as registereds, b.voters, b.voters/count(a.registrantid) as pct_voted\n",
    "FROM voter_grand_royale a\n",
    "JOIN \n",
    "(SELECT countycode, count(registrantid) as voters\n",
    "FROM voter_grand_royale\n",
    "WHERE 2016ge_method IS NOT NULL\n",
    "GROUP BY countycode) b\n",
    "on a.countycode = b.countycode\n",
    "GROUP BY a.countycode, b.voters\n",
    "ORDER BY pct_voted DESC\n",
    "LIMIT 4\n"
   ]
  },
  {
   "cell_type": "markdown",
   "metadata": {},
   "source": [
    "The counties with the highest turnout were: Marin, Glenn, and Sonoma.  Weakest turnout were: Imperial, Kings, and Fresno."
   ]
  },
  {
   "cell_type": "markdown",
   "metadata": {},
   "source": [
    "### How did statewide turnout (numbers of votes cast compard to number of registered voters) vary by party?"
   ]
  },
  {
   "cell_type": "code",
   "execution_count": null,
   "metadata": {
    "collapsed": true
   },
   "outputs": [],
   "source": [
    "%%sql\n",
    "Select a.partycode, count(a.registrantid) as voternum, b.count_value_sum as registerednum, count(a.registrantid)/b.count_value_sum as turnoutpct\n",
    "FROM voter_grand_royale a\n",
    "JOIN \n",
    "(SELECT partycode, count(registrantid) as count_value_sum\n",
    "FROM voter_grand_royale\n",
    "WHERE partycode IN (\"DEM\", \"GRN\", \"LIB\", \"REP\", \"NPP\")\n",
    "GROUP BY partycode) b\n",
    "on a.partycode = b.partycode \n",
    "WHERE a.partycode IN (\"DEM\", \"GRN\", \"LIB\", \"REP\", \"NPP\") and a.2016ge_method IS NOT NULL\n",
    "GROUP BY a.partycode, b.count_value_sum"
   ]
  },
  {
   "cell_type": "markdown",
   "metadata": {},
   "source": [
    "Registered Republicans turned out in the strongest numbers and registrants noting \"no party affiliation\" were the least engaged."
   ]
  },
  {
   "cell_type": "markdown",
   "metadata": {},
   "source": [
    "### What is the breakdown by party affiliation of \"first-time voters\" in 2016 presidential election?"
   ]
  },
  {
   "cell_type": "code",
   "execution_count": null,
   "metadata": {
    "collapsed": true
   },
   "outputs": [],
   "source": [
    "%%sql\n",
    "select count(v.registrantid) as votercount,  v.partycode\n",
    "FROM (select registrantid, cast(to_date(from_unixtime(unix_timestamp(dob, 'yyyy-MM-dd'))) as date) as date, countycode, partycode\n",
    "from voter_grand_royale\n",
    "where 2016ge_method IS NOT NULL AND 2014ge_method IS NULL and 2012ge_method IS NULL and 2010ge_method IS NULL and 2008ge_method IS NULL\n",
    ") v\n",
    "where v.date < 1987-02-02 and partycode in (\"DEM\", \"REP\", \"LIB\", \"GRN\", \"NPP\")\n",
    "group by v.partycode\n",
    "sort by votercount DESC"
   ]
  },
  {
   "cell_type": "markdown",
   "metadata": {},
   "source": [
    "Most people who voted in 2016 after sitting out 2008, 10, 12 despite being eligible, were registered Democrats. More than twice as many as were Republican in fact."
   ]
  },
  {
   "cell_type": "markdown",
   "metadata": {},
   "source": [
    "### What is the gender breakdown of registrants by party?"
   ]
  },
  {
   "cell_type": "code",
   "execution_count": null,
   "metadata": {
    "collapsed": true
   },
   "outputs": [],
   "source": [
    "%%sql\n",
    "SELECT a.partycode, a.tot_males/b.tot_registered as pct_male\n",
    "FROM \n",
    "(SELECT partycode, count(registrantid) as tot_males\n",
    "FROM \n",
    "voter_grand_royale\n",
    "WHERE gender = \"M\" and partycode in (\"DEM\", \"REP\", \"LIB\", \"GRN\")\n",
    "GROUP BY partycode) a\n",
    "JOIN\n",
    "(SELECT partycode, count(registrantid)as tot_registered\n",
    "FROM voter_grand_royale\n",
    "WHERE gender IN (\"M\", \"F\") and partycode in (\"DEM\", \"REP\", \"LIB\", \"GRN\")\n",
    "GROUP BY partycode) b\n",
    "on a.partycode = b.partycode"
   ]
  },
  {
   "cell_type": "markdown",
   "metadata": {},
   "source": [
    "The Liberterian party boasts the highest % of male registrants and the Democratic party the least."
   ]
  }
 ],
 "metadata": {
  "anaconda-cloud": {},
  "kernelspec": {
   "display_name": "Python 3",
   "language": "python",
   "name": "python3"
  },
  "language_info": {
   "codemirror_mode": {
    "name": "ipython",
    "version": 3
   },
   "file_extension": ".py",
   "mimetype": "text/x-python",
   "name": "python",
   "nbconvert_exporter": "python",
   "pygments_lexer": "ipython3",
   "version": "3.5.2"
  }
 },
 "nbformat": 4,
 "nbformat_minor": 1
}
